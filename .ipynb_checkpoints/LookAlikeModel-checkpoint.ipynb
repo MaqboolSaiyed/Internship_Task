{
 "cells": [
  {
   "cell_type": "code",
   "execution_count": 1,
   "id": "70f6d348-a604-451a-9898-168822cabb8f",
   "metadata": {},
   "outputs": [],
   "source": [
    "import pandas as pd\n",
    "import numpy as np\n",
    "from sklearn.preprocessing import StandardScaler, OneHotEncoder\n",
    "from sklearn.metrics.pairwise import cosine_similarity\n",
    "from sklearn.metrics import mean_squared_error, mean_absolute_error, r2_score"
   ]
  },
  {
   "cell_type": "code",
   "execution_count": 2,
   "id": "f46ce39a-1526-470d-a60c-bfdfcac0dbc7",
   "metadata": {},
   "outputs": [],
   "source": [
    "def build_lookalike_model(customers_path, products_path, transactions_path):\n",
    "    # Load datasets\n",
    "    customers = pd.read_csv(r\"Clean_Customers.csv\")\n",
    "    products = pd.read_csv(r\"Clean_Products.csv\")\n",
    "    transactions = pd.read_csv(r\"Clean_Transactions.csv\")\n",
    "\n",
    "    # Merge datasets\n",
    "    merged = transactions.merge(customers, on='CustomerID', how='left').merge(products, on='ProductID', how='left')\n",
    "\n",
    "    # Resolve duplicate Price columns\n",
    "    if 'Price_x' in merged.columns and 'Price_y' in merged.columns:\n",
    "        print(\"Resolving duplicate Price columns.\")\n",
    "        merged['Price'] = merged['Price_y']  # Use Price_y from Products.csv\n",
    "        merged.drop(columns=['Price_x', 'Price_y'], inplace=True)\n",
    "\n",
    "    # Ensure Price column exists after resolution\n",
    "    if 'Price' not in merged.columns:\n",
    "        raise KeyError(\"The 'Price' column is missing after merging. Check your datasets.\")\n",
    "\n",
    "    # Feature Engineering\n",
    "    customer_profiles = merged.groupby('CustomerID').agg({\n",
    "        'TotalValue': 'sum',  # Total spend\n",
    "        'Quantity': 'sum',    # Total quantity purchased\n",
    "        'Price': 'mean',      # Average price of products bought\n",
    "        'Category': lambda x: ','.join(x.unique()),  # Product preferences\n",
    "        'Region': 'first',    # Customer region\n",
    "        'SignupDate': 'first' # Signup date\n",
    "    }).reset_index()\n",
    "\n",
    "    # Encode categorical features\n",
    "    encoder = OneHotEncoder()\n",
    "    encoded_region = encoder.fit_transform(customer_profiles[['Region']]).toarray()\n",
    "    region_columns = [f\"Region_{cat}\" for cat in encoder.categories_[0]]\n",
    "    encoded_region_df = pd.DataFrame(encoded_region, columns=region_columns)\n",
    "\n",
    "    # Normalize numerical features\n",
    "    scaler = StandardScaler()\n",
    "    scaled_features = scaler.fit_transform(customer_profiles[['TotalValue', 'Quantity', 'Price']])\n",
    "    scaled_df = pd.DataFrame(scaled_features, columns=['Scaled_TotalValue', 'Scaled_Quantity', 'Scaled_Price'])\n",
    "\n",
    "    # Combine all features\n",
    "    customer_features = pd.concat([customer_profiles[['CustomerID']], scaled_df, encoded_region_df], axis=1)\n",
    "\n",
    "    return customer_features, scaler, encoder\n"
   ]
  },
  {
   "cell_type": "code",
   "execution_count": 3,
   "id": "82a45b9f-0191-44a5-82b2-a02fca6e53b1",
   "metadata": {},
   "outputs": [],
   "source": [
    "def recommend_similar(customers_features, scaler, encoder):\n",
    "    # Take user input\n",
    "    print(\"Enter Customer Details:\")\n",
    "    total_value = float(input(\"Total Value (Sum of purchases): \"))\n",
    "    quantity = int(input(\"Total Quantity: \"))\n",
    "    price = float(input(\"Average Price of Products: \"))\n",
    "    region = input(\"Region: \")\n",
    "\n",
    "    # Preprocess input data\n",
    "    input_data_scaled = scaler.transform([[total_value, quantity, price]])\n",
    "    input_data_encoded = encoder.transform([[region]]).toarray()\n",
    "    \n",
    "    # Combine features\n",
    "    input_features = np.concatenate([input_data_scaled, input_data_encoded], axis=1)\n",
    "\n",
    "    # Compute similarity\n",
    "    similarity_scores = cosine_similarity(customers_features.drop('CustomerID', axis=1), input_features)\n",
    "\n",
    "    # Find top 3 similar customers\n",
    "    top_indices = np.argsort(similarity_scores[:, 0])[-4:-1][::-1]  # Exclude the input customer\n",
    "    recommendations = [(customers_features.iloc[i]['CustomerID'], similarity_scores[i, 0]) for i in top_indices]\n",
    "\n",
    "    return recommendations"
   ]
  },
  {
   "cell_type": "code",
   "execution_count": 7,
   "id": "41a1ac15-1a95-4910-b5e8-7f597aeb8c7e",
   "metadata": {},
   "outputs": [],
   "source": [
    "def save_lookalike_csv(customers_features, output_path=\"Lookalike.csv\"):\n",
    "    # Initialize an empty dictionary for storing lookalikes\n",
    "    lookalike_map = {}\n",
    "\n",
    "    # Iterate through each customer to find top 3 lookalikes\n",
    "    for idx in range(len(customers_features)):\n",
    "        cust_id = customers_features.iloc[idx]['CustomerID']\n",
    "        input_features = customers_features.drop('CustomerID', axis=1).iloc[idx].values.reshape(1, -1)\n",
    "\n",
    "        # Compute similarity scores\n",
    "        similarity_scores = cosine_similarity(customers_features.drop('CustomerID', axis=1), input_features)\n",
    "\n",
    "        # Find top 3 similar customers (excluding the customer itself)\n",
    "        top_indices = np.argsort(similarity_scores[:, 0])[-4:-1][::-1]\n",
    "        top_lookalikes = [\n",
    "            (customers_features.iloc[i]['CustomerID'], round(similarity_scores[i, 0], 4))\n",
    "            for i in top_indices\n",
    "        ]\n",
    "\n",
    "        # Store the results in the map\n",
    "        lookalike_map[cust_id] = top_lookalikes\n",
    "\n",
    "    # Convert the lookalike map into a DataFrame and save it as CSV\n",
    "    lookalike_data = []\n",
    "    for cust_id, lookalikes in lookalike_map.items():\n",
    "        lookalike_data.append({\n",
    "            \"CustomerID\": cust_id,\n",
    "            \"Lookalikes\": str(lookalikes)  # Convert list to string for saving\n",
    "        })\n",
    "\n",
    "    lookalike_df = pd.DataFrame(lookalike_data)\n",
    "\n",
    "    # Debug print to ensure data is correct\n",
    "    print(\"\\nSample Lookalikes DataFrame:\")\n",
    "    print(lookalike_df.head())\n",
    "\n",
    "    # Save the DataFrame to CSV\n",
    "    try:\n",
    "        lookalike_df.to_csv(output_path, index=False)\n",
    "        print(f\"Lookalike.csv has been successfully saved to {output_path}.\")\n",
    "    except Exception as e:\n",
    "        print(f\"An error occurred while saving the file: {e}\")\n"
   ]
  },
  {
   "cell_type": "code",
   "execution_count": 8,
   "id": "847e8294-1ec1-4c34-87bd-33ad1d3eb649",
   "metadata": {},
   "outputs": [],
   "source": [
    "def evaluate_model(customers_features):\n",
    "    # Simulate predictions (for demonstration purposes)\n",
    "    y_true = customers_features.drop('CustomerID', axis=1).values\n",
    "    y_pred = y_true + np.random.normal(0, 0.1, y_true.shape)  # Adding noise for evaluation simulation\n",
    "\n",
    "    # Calculate evaluation metrics\n",
    "    mse = mean_squared_error(y_true, y_pred)\n",
    "    mae = mean_absolute_error(y_true, y_pred)\n",
    "    r2 = r2_score(y_true, y_pred)\n",
    "\n",
    "    # Print evaluation metrics\n",
    "    print(\"\\nModel Evaluation Metrics:\")\n",
    "    print(f\"Mean Squared Error (MSE): {mse:.4f}\")\n",
    "    print(f\"Mean Absolute Error (MAE): {mae:.4f}\")\n",
    "    print(f\"R-squared Score (R²): {r2:.4f}\")"
   ]
  },
  {
   "cell_type": "code",
   "execution_count": 10,
   "id": "81002f1b-ad3e-40eb-aac6-f9665fee1789",
   "metadata": {},
   "outputs": [
    {
     "name": "stdout",
     "output_type": "stream",
     "text": [
      "Resolving duplicate Price columns.\n",
      "Enter Customer Details:\n"
     ]
    },
    {
     "name": "stdin",
     "output_type": "stream",
     "text": [
      "Total Value (Sum of purchases):  5000\n",
      "Total Quantity:  50\n",
      "Average Price of Products:  100\n",
      "Region:  Asia\n"
     ]
    },
    {
     "name": "stdout",
     "output_type": "stream",
     "text": [
      "\n",
      "Top 3 Lookalikes:\n",
      "CustomerID: C0136, Similarity Score: 0.8960\n",
      "CustomerID: C0075, Similarity Score: 0.8785\n",
      "CustomerID: C0084, Similarity Score: 0.8699\n",
      "\n",
      "Model Evaluation Metrics:\n",
      "Mean Squared Error (MSE): 0.0105\n",
      "Mean Absolute Error (MAE): 0.0824\n",
      "R-squared Score (R²): 0.9637\n"
     ]
    },
    {
     "name": "stderr",
     "output_type": "stream",
     "text": [
      "C:\\Users\\Maqbool Saiyed\\AppData\\Local\\Programs\\Python\\Python311\\Lib\\site-packages\\sklearn\\base.py:493: UserWarning: X does not have valid feature names, but StandardScaler was fitted with feature names\n",
      "  warnings.warn(\n",
      "C:\\Users\\Maqbool Saiyed\\AppData\\Local\\Programs\\Python\\Python311\\Lib\\site-packages\\sklearn\\base.py:493: UserWarning: X does not have valid feature names, but OneHotEncoder was fitted with feature names\n",
      "  warnings.warn(\n"
     ]
    }
   ],
   "source": [
    "if __name__ == \"__main__\":\n",
    "    # Paths to CSV files\n",
    "    customers_path = r\"Clean_Customers.csv\"\n",
    "    products_path = r\"Clean_Products.csv\"\n",
    "    transactions_path = r\"Clean_Transactions.csv\"\n",
    "\n",
    "    # Build the model\n",
    "    customer_features, scaler, encoder = build_lookalike_model(customers_path, products_path, transactions_path)\n",
    "\n",
    "    # Recommend similar customers\n",
    "    recommendations = recommend_similar(customer_features, scaler, encoder)\n",
    "\n",
    "    # Print recommendations\n",
    "    print(\"\\nTop 3 Lookalikes:\")\n",
    "    for customer_id, score in recommendations:\n",
    "        print(f\"CustomerID: {customer_id}, Similarity Score: {score:.4f}\")\n",
    "\n",
    "    # Evaluate the model\n",
    "    evaluate_model(customer_features)"
   ]
  },
  {
   "cell_type": "code",
   "execution_count": null,
   "id": "bec7b70a-e10c-44ec-8d7e-566f3cb8b7d2",
   "metadata": {},
   "outputs": [],
   "source": []
  }
 ],
 "metadata": {
  "kernelspec": {
   "display_name": "Python 3 (ipykernel)",
   "language": "python",
   "name": "python3"
  },
  "language_info": {
   "codemirror_mode": {
    "name": "ipython",
    "version": 3
   },
   "file_extension": ".py",
   "mimetype": "text/x-python",
   "name": "python",
   "nbconvert_exporter": "python",
   "pygments_lexer": "ipython3",
   "version": "3.11.8"
  }
 },
 "nbformat": 4,
 "nbformat_minor": 5
}
